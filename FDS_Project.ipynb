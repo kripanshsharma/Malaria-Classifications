{
  "cells": [
    {
      "cell_type": "markdown",
      "metadata": {
        "id": "view-in-github",
        "colab_type": "text"
      },
      "source": [
        "<a href=\"https://colab.research.google.com/github/kripanshsharma/Malaria-Classifications/blob/main/FDS_Project.ipynb\" target=\"_parent\"><img src=\"https://colab.research.google.com/assets/colab-badge.svg\" alt=\"Open In Colab\"/></a>"
      ]
    },
    {
      "cell_type": "code",
      "execution_count": 2,
      "metadata": {
        "colab": {
          "base_uri": "https://localhost:8080/"
        },
        "id": "vEH8xELycO_S",
        "outputId": "53419bcc-42f8-4308-fadc-7dd7352674c8"
      },
      "outputs": [
        {
          "output_type": "stream",
          "name": "stdout",
          "text": [
            "Looking in indexes: https://pypi.org/simple, https://us-python.pkg.dev/colab-wheels/public/simple/\n",
            "Collecting keras-metrics\n",
            "  Downloading keras_metrics-1.1.0-py2.py3-none-any.whl (5.6 kB)\n",
            "Requirement already satisfied: Keras>=2.1.5 in /usr/local/lib/python3.10/dist-packages (from keras-metrics) (2.12.0)\n",
            "Installing collected packages: keras-metrics\n",
            "Successfully installed keras-metrics-1.1.0\n"
          ]
        }
      ],
      "source": [
        "!pip install keras-metrics"
      ]
    },
    {
      "cell_type": "code",
      "execution_count": 3,
      "metadata": {
        "colab": {
          "base_uri": "https://localhost:8080/"
        },
        "id": "S0_U1LiXwNv2",
        "outputId": "dee450ef-5aad-4d54-f30a-fe298ad737f2"
      },
      "outputs": [
        {
          "output_type": "stream",
          "name": "stdout",
          "text": [
            "Looking in indexes: https://pypi.org/simple, https://us-python.pkg.dev/colab-wheels/public/simple/\n",
            "Collecting tensorflow-gpu\n",
            "  Downloading tensorflow-gpu-2.12.0.tar.gz (2.6 kB)\n",
            "  \u001b[1;31merror\u001b[0m: \u001b[1msubprocess-exited-with-error\u001b[0m\n",
            "  \n",
            "  \u001b[31m×\u001b[0m \u001b[32mpython setup.py egg_info\u001b[0m did not run successfully.\n",
            "  \u001b[31m│\u001b[0m exit code: \u001b[1;36m1\u001b[0m\n",
            "  \u001b[31m╰─>\u001b[0m See above for output.\n",
            "  \n",
            "  \u001b[1;35mnote\u001b[0m: This error originates from a subprocess, and is likely not a problem with pip.\n",
            "  Preparing metadata (setup.py) ... \u001b[?25l\u001b[?25herror\n",
            "\u001b[1;31merror\u001b[0m: \u001b[1mmetadata-generation-failed\u001b[0m\n",
            "\n",
            "\u001b[31m×\u001b[0m Encountered error while generating package metadata.\n",
            "\u001b[31m╰─>\u001b[0m See above for output.\n",
            "\n",
            "\u001b[1;35mnote\u001b[0m: This is an issue with the package mentioned above, not pip.\n",
            "\u001b[1;36mhint\u001b[0m: See above for details.\n"
          ]
        }
      ],
      "source": [
        "\n",
        "!pip install tensorflow-gpu"
      ]
    },
    {
      "cell_type": "code",
      "execution_count": 4,
      "metadata": {
        "colab": {
          "base_uri": "https://localhost:8080/"
        },
        "id": "X9Y5JK8Iw9bV",
        "outputId": "70a26098-e927-4b9f-938e-5a77dcadfacf"
      },
      "outputs": [
        {
          "output_type": "stream",
          "name": "stdout",
          "text": [
            "2.12.0\n"
          ]
        }
      ],
      "source": [
        "import tensorflow as tf\n",
        "from tensorflow.keras import Sequential\n",
        "from tensorflow.keras.layers import Flatten , Dense , Conv2D , MaxPool2D ,  Dropout, Activation\n",
        "from tensorflow.keras.preprocessing.image import ImageDataGenerator,img_to_array, load_img\n",
        "from keras.preprocessing import image\n",
        "from tensorflow.keras.models import Model\n",
        "import PIL\n",
        "import PIL.Image\n",
        "from PIL import Image\n",
        "import cv2\n",
        "from numpy import asarray\n",
        "import numpy\n",
        "import pandas as pd\n",
        "\n",
        "import keras_metrics\n",
        "print(tf.__version__)"
      ]
    },
    {
      "cell_type": "code",
      "execution_count": 5,
      "metadata": {
        "id": "D2LYD57hyPh8"
      },
      "outputs": [],
      "source": [
        "import numpy as np\n",
        "import matplotlib.pyplot as plt\n"
      ]
    },
    {
      "cell_type": "code",
      "execution_count": 5,
      "metadata": {
        "id": "9WX9Jm_EeiYK"
      },
      "outputs": [],
      "source": []
    },
    {
      "cell_type": "code",
      "execution_count": 6,
      "metadata": {
        "colab": {
          "base_uri": "https://localhost:8080/"
        },
        "id": "KagxgEdTyhjj",
        "outputId": "22fd7f89-1153-4239-83d5-151a3476a1be"
      },
      "outputs": [
        {
          "output_type": "stream",
          "name": "stdout",
          "text": [
            "Cloning into 'Malaria-Classification-Using-CNN'...\n",
            "remote: Enumerating objects: 27577, done.\u001b[K\n",
            "remote: Total 27577 (delta 0), reused 0 (delta 0), pack-reused 27577\u001b[K\n",
            "Receiving objects: 100% (27577/27577), 331.67 MiB | 38.98 MiB/s, done.\n",
            "Resolving deltas: 100% (3/3), done.\n",
            "Updating files: 100% (27562/27562), done.\n"
          ]
        }
      ],
      "source": [
        "!git clone https://github.com/laxmimerit/Malaria-Classification-Using-CNN.git"
      ]
    },
    {
      "cell_type": "code",
      "execution_count": 7,
      "metadata": {
        "colab": {
          "base_uri": "https://localhost:8080/"
        },
        "id": "bv9U6juLejFD",
        "outputId": "cf176cf1-74ca-400c-e275-dc477276672b"
      },
      "outputs": [
        {
          "output_type": "stream",
          "name": "stdout",
          "text": [
            "Parasitized Cell :\n"
          ]
        }
      ],
      "source": [
        "# not needed!\n",
        "# to be deleted\n",
        "\n",
        "path1 = \"/content/Malaria-Classification-Using-CNN/malaria-dataset/Parasitized/C100P61ThinF_IMG_20150918_144823_cell_162.png\"\n",
        "Load_image1 = tf.keras.preprocessing.image.load_img(path1)\n",
        "print(\"Parasitized Cell :\")\n",
        "Load_image1\n",
        "path3= '/content/Malaria-Classification-Using-CNN/malaria-dataset/'\n",
        "img1=Image.open(path1)\n",
        "numpydata=asarray(img1)\n",
        "\n",
        "# numpydata=numpydata.flatten()\n",
        "numpydata=numpydata.reshape(1,-1)\n",
        "# //print(numpydata)\n",
        "\n",
        "# df = pd.DataFrame(numpydata)\n",
        "# excelpath = path1[59:]\n",
        "# df.to_excel(filepath,index=false)\n",
        "\n",
        "\n",
        "np.savetxt(\"/content/Malaria-Classification-Using-CNN/malaria-dataset/file.csv\",numpydata, delimiter =\",\",fmt ='%s',comments='')"
      ]
    },
    {
      "cell_type": "code",
      "execution_count": 8,
      "metadata": {
        "id": "ouduim4ezKRa"
      },
      "outputs": [],
      "source": [
        "img_width = 100\n",
        "img_height = 100"
      ]
    },
    {
      "cell_type": "code",
      "execution_count": 9,
      "metadata": {
        "id": "muJZBLi8zXAR"
      },
      "outputs": [],
      "source": [
        "datagen = ImageDataGenerator(rescale=1/255.0, validation_split=0.4)\n",
        "\n"
      ]
    },
    {
      "cell_type": "code",
      "execution_count": 9,
      "metadata": {
        "id": "Xpr2Xik0l5VI"
      },
      "outputs": [],
      "source": []
    },
    {
      "cell_type": "code",
      "execution_count": 10,
      "metadata": {
        "colab": {
          "base_uri": "https://localhost:8080/"
        },
        "id": "KSUsOE9dzg-6",
        "outputId": "58a57fcf-a134-4d60-f163-276d41a6bf6a"
      },
      "outputs": [
        {
          "output_type": "stream",
          "name": "stdout",
          "text": [
            "Found 16536 images belonging to 2 classes.\n"
          ]
        }
      ],
      "source": [
        "train_data_generator = datagen.flow_from_directory(directory='/content/Malaria-Classification-Using-CNN/malaria-dataset',\n",
        "                          target_size = (img_width, img_height),\n",
        "                                                   class_mode = 'binary',\n",
        "                                                   batch_size = 16,\n",
        "                                                   subset = 'training'\n",
        "                                                   \n",
        "                                                   )"
      ]
    },
    {
      "cell_type": "code",
      "execution_count": 11,
      "metadata": {
        "colab": {
          "base_uri": "https://localhost:8080/"
        },
        "id": "vgKR8c8t0Zeu",
        "outputId": "c6f3c83e-7052-4605-918f-275b0e6830f2"
      },
      "outputs": [
        {
          "output_type": "stream",
          "name": "stdout",
          "text": [
            "Found 11022 images belonging to 2 classes.\n"
          ]
        }
      ],
      "source": [
        "validation_data_generator = datagen.flow_from_directory(directory='/content/Malaria-Classification-Using-CNN/malaria-dataset',\n",
        "                                                   target_size = (img_width, img_height),\n",
        "                                                   class_mode = 'binary',\n",
        "                                                   batch_size = 16,\n",
        "                                                   subset = 'validation'\n",
        "                                                   \n",
        "                                                   )"
      ]
    },
    {
      "cell_type": "code",
      "execution_count": 12,
      "metadata": {
        "colab": {
          "base_uri": "https://localhost:8080/",
          "height": 149
        },
        "id": "JvaAQGK0aQ-3",
        "outputId": "d377c80b-17b0-46b1-9e9c-81f02e9971ef"
      },
      "outputs": [
        {
          "output_type": "stream",
          "name": "stdout",
          "text": [
            "Parasitized Cell :\n"
          ]
        },
        {
          "output_type": "execute_result",
          "data": {
            "text/plain": [
              "<PIL.PngImagePlugin.PngImageFile image mode=RGB size=121x115 at 0x7FF87DAEA9B0>"
            ],
            "image/png": "[encoded data removed]"
          },
          "metadata": {},
          "execution_count": 12
        }
      ],
      "source": [
        "path1 = \"/content/Malaria-Classification-Using-CNN/malaria-dataset/Parasitized/C100P61ThinF_IMG_20150918_144823_cell_162.png\"\n",
        "Load_image1 = tf.keras.preprocessing.image.load_img(path1)\n",
        "print(\"Parasitized Cell :\")\n",
        "Load_image1\n",
        "\n"
      ]
    },
    {
      "cell_type": "code",
      "execution_count": 13,
      "metadata": {
        "colab": {
          "base_uri": "https://localhost:8080/",
          "height": 170
        },
        "id": "4zcsnhshex49",
        "outputId": "656ec447-ea87-4ce2-9576-0323216c57df"
      },
      "outputs": [
        {
          "output_type": "stream",
          "name": "stdout",
          "text": [
            "Uninfected Cell :\n"
          ]
        },
        {
          "output_type": "execute_result",
          "data": {
            "text/plain": [
              "<PIL.PngImagePlugin.PngImageFile image mode=RGB size=145x136 at 0x7FF87DAE9A80>"
            ],
            "image/png": "[encoded data removed]"
          },
          "metadata": {},
          "execution_count": 13
        }
      ],
      "source": [
        "path2 = \"/content/Malaria-Classification-Using-CNN/malaria-dataset/Uninfected/C100P61ThinF_IMG_20150918_144104_cell_131.png\"\n",
        "print(\"Uninfected Cell :\")\n",
        "Load_image2 = tf.keras.preprocessing.image.load_img(path2)\n",
        "Load_image2"
      ]
    },
    {
      "cell_type": "code",
      "execution_count": 14,
      "metadata": {
        "colab": {
          "base_uri": "https://localhost:8080/"
        },
        "id": "xM8DXxg-uHAV",
        "outputId": "f83cb7bf-ea47-4b0b-85c4-807717c88188"
      },
      "outputs": [
        {
          "output_type": "execute_result",
          "data": {
            "text/plain": [
              "array([0, 0, 0, ..., 1, 1, 1], dtype=int32)"
            ]
          },
          "metadata": {},
          "execution_count": 14
        }
      ],
      "source": [
        "train_data_generator.labels"
      ]
    },
    {
      "cell_type": "markdown",
      "metadata": {
        "id": "yDzgtu_J0wCV"
      },
      "source": [
        "# CNN model"
      ]
    },
    {
      "cell_type": "code",
      "execution_count": 15,
      "metadata": {
        "colab": {
          "base_uri": "https://localhost:8080/"
        },
        "id": "_OKNXTUI023E",
        "outputId": "e12d03b3-d827-4012-ef62-1b5d73410206"
      },
      "outputs": [
        {
          "output_type": "stream",
          "name": "stdout",
          "text": [
            "Model: \"sequential\"\n",
            "_________________________________________________________________\n",
            " Layer (type)                Output Shape              Param #   \n",
            "=================================================================\n",
            " conv2d (Conv2D)             (None, 98, 98, 16)        448       \n",
            "                                                                 \n",
            " max_pooling2d (MaxPooling2D  (None, 49, 49, 16)       0         \n",
            " )                                                               \n",
            "                                                                 \n",
            " dropout (Dropout)           (None, 49, 49, 16)        0         \n",
            "                                                                 \n",
            " conv2d_1 (Conv2D)           (None, 47, 47, 32)        4640      \n",
            "                                                                 \n",
            " max_pooling2d_1 (MaxPooling  (None, 23, 23, 32)       0         \n",
            " 2D)                                                             \n",
            "                                                                 \n",
            " conv2d_2 (Conv2D)           (None, 21, 21, 32)        9248      \n",
            "                                                                 \n",
            " max_pooling2d_2 (MaxPooling  (None, 10, 10, 32)       0         \n",
            " 2D)                                                             \n",
            "                                                                 \n",
            " conv2d_3 (Conv2D)           (None, 8, 8, 64)          18496     \n",
            "                                                                 \n",
            " max_pooling2d_3 (MaxPooling  (None, 4, 4, 64)         0         \n",
            " 2D)                                                             \n",
            "                                                                 \n",
            " dropout_1 (Dropout)         (None, 4, 4, 64)          0         \n",
            "                                                                 \n",
            " flatten (Flatten)           (None, 1024)              0         \n",
            "                                                                 \n",
            " dense (Dense)               (None, 64)                65600     \n",
            "                                                                 \n",
            " dropout_2 (Dropout)         (None, 64)                0         \n",
            "                                                                 \n",
            " dense_1 (Dense)             (None, 1)                 65        \n",
            "                                                                 \n",
            "=================================================================\n",
            "Total params: 98,497\n",
            "Trainable params: 98,497\n",
            "Non-trainable params: 0\n",
            "_________________________________________________________________\n"
          ]
        }
      ],
      "source": [
        "model = Sequential()\n",
        "\n",
        "model.add(Conv2D(16,(3,3), input_shape = (img_width,img_height,3), activation = \"relu\"))\n",
        "model.add(MaxPool2D(2,2))\n",
        "model.add(Dropout(0.2))\n",
        "model.add(Conv2D(32,(3,3), activation = \"relu\"))\n",
        "model.add(MaxPool2D(2,2))\n",
        "model.add(Conv2D(32,(3,3), activation = \"relu\"))\n",
        "model.add(MaxPool2D(2,2))\n",
        "model.add(Conv2D(64,(3,3), activation = \"relu\"))\n",
        "model.add(MaxPool2D(2,2))\n",
        "model.add(Dropout(0.3))\n",
        "\n",
        "model.add(Flatten())\n",
        "model.add(Dense(64, activation = \"relu\"))\n",
        "model.add(Dropout(0.5))\n",
        "\n",
        "model.add(Dense(1, activation = \"sigmoid\"))\n",
        "\n",
        "model.summary()"
      ]
    },
    {
      "cell_type": "code",
      "execution_count": 16,
      "metadata": {
        "id": "zQTc8VRg2RkP"
      },
      "outputs": [],
      "source": [
        "model.compile(optimizer='adam',loss='binary_crossentropy',metrics=[\"accuracy\",tf.keras.metrics.AUC(),\n",
        "          tf.keras.metrics.Precision(),tf.keras.metrics.Recall(), tf.keras.metrics.FalseNegatives(),\n",
        "          tf.keras.metrics.FalsePositives(),tf.keras.metrics.TrueNegatives(),tf.keras.metrics.TruePositives()])\n"
      ]
    },
    {
      "cell_type": "code",
      "execution_count": 16,
      "metadata": {
        "id": "j6pc8cG5_jmz"
      },
      "outputs": [],
      "source": []
    },
    {
      "cell_type": "code",
      "execution_count": 17,
      "metadata": {
        "colab": {
          "base_uri": "https://localhost:8080/"
        },
        "id": "9_6L26VC2b5w",
        "outputId": "38384ea8-bcb4-42c6-9fbf-02bac85252a1"
      },
      "outputs": [
        {
          "metadata": {
            "tags": null
          },
          "name": "stderr",
          "output_type": "stream",
          "text": [
            "<ipython-input-17-e2ef54906d16>:1: UserWarning: `Model.fit_generator` is deprecated and will be removed in a future version. Please use `Model.fit`, which supports generators.\n",
            "  history = model.fit_generator(generator=train_data_generator,\n"
          ]
        },
        {
          "output_type": "stream",
          "name": "stdout",
          "text": [
            "Epoch 1/15\n",
            "1034/1034 [==============================] - 233s 220ms/step - loss: 0.4328 - accuracy: 0.7660 - auc: 0.8721 - precision: 0.7659 - recall: 0.7663 - false_negatives: 1932.0000 - false_positives: 1937.0000 - true_negatives: 6331.0000 - true_positives: 6336.0000 - val_loss: 0.1727 - val_accuracy: 0.9417 - val_auc: 0.9785 - val_precision: 0.9132 - val_recall: 0.9760 - val_false_negatives: 132.0000 - val_false_positives: 511.0000 - val_true_negatives: 5000.0000 - val_true_positives: 5379.0000\n",
            "Epoch 2/15\n",
            "1034/1034 [==============================] - 223s 216ms/step - loss: 0.1686 - accuracy: 0.9505 - auc: 0.9787 - precision: 0.9368 - recall: 0.9661 - false_negatives: 280.0000 - false_positives: 539.0000 - true_negatives: 7729.0000 - true_positives: 7988.0000 - val_loss: 0.1547 - val_accuracy: 0.9499 - val_auc: 0.9838 - val_precision: 0.9265 - val_recall: 0.9773 - val_false_negatives: 125.0000 - val_false_positives: 427.0000 - val_true_negatives: 5084.0000 - val_true_positives: 5386.0000\n",
            "Epoch 3/15\n",
            "1034/1034 [==============================] - 212s 205ms/step - loss: 0.1547 - accuracy: 0.9545 - auc: 0.9820 - precision: 0.9445 - recall: 0.9658 - false_negatives: 283.0000 - false_positives: 469.0000 - true_negatives: 7799.0000 - true_positives: 7985.0000 - val_loss: 0.1423 - val_accuracy: 0.9530 - val_auc: 0.9867 - val_precision: 0.9415 - val_recall: 0.9661 - val_false_negatives: 187.0000 - val_false_positives: 331.0000 - val_true_negatives: 5180.0000 - val_true_positives: 5324.0000\n",
            "Epoch 4/15\n",
            "1034/1034 [==============================] - 213s 206ms/step - loss: 0.1483 - accuracy: 0.9547 - auc: 0.9830 - precision: 0.9444 - recall: 0.9663 - false_negatives: 279.0000 - false_positives: 470.0000 - true_negatives: 7798.0000 - true_positives: 7989.0000 - val_loss: 0.1598 - val_accuracy: 0.9476 - val_auc: 0.9855 - val_precision: 0.9233 - val_recall: 0.9762 - val_false_negatives: 131.0000 - val_false_positives: 447.0000 - val_true_negatives: 5064.0000 - val_true_positives: 5380.0000\n",
            "Epoch 5/15\n",
            "1034/1034 [==============================] - 211s 204ms/step - loss: 0.1462 - accuracy: 0.9549 - auc: 0.9836 - precision: 0.9455 - recall: 0.9654 - false_negatives: 286.0000 - false_positives: 460.0000 - true_negatives: 7808.0000 - true_positives: 7982.0000 - val_loss: 0.1398 - val_accuracy: 0.9554 - val_auc: 0.9865 - val_precision: 0.9519 - val_recall: 0.9592 - val_false_negatives: 225.0000 - val_false_positives: 267.0000 - val_true_negatives: 5244.0000 - val_true_positives: 5286.0000\n",
            "Epoch 6/15\n",
            "1034/1034 [==============================] - 211s 204ms/step - loss: 0.1374 - accuracy: 0.9555 - auc: 0.9863 - precision: 0.9477 - recall: 0.9642 - false_negatives: 296.0000 - false_positives: 440.0000 - true_negatives: 7828.0000 - true_positives: 7972.0000 - val_loss: 0.1501 - val_accuracy: 0.9493 - val_auc: 0.9854 - val_precision: 0.9314 - val_recall: 0.9701 - val_false_negatives: 165.0000 - val_false_positives: 394.0000 - val_true_negatives: 5117.0000 - val_true_positives: 5346.0000\n",
            "Epoch 7/15\n",
            "1034/1034 [==============================] - 211s 204ms/step - loss: 0.1312 - accuracy: 0.9581 - auc: 0.9871 - precision: 0.9508 - recall: 0.9661 - false_negatives: 280.0000 - false_positives: 413.0000 - true_negatives: 7855.0000 - true_positives: 7988.0000 - val_loss: 0.1363 - val_accuracy: 0.9548 - val_auc: 0.9869 - val_precision: 0.9466 - val_recall: 0.9641 - val_false_negatives: 198.0000 - val_false_positives: 300.0000 - val_true_negatives: 5211.0000 - val_true_positives: 5313.0000\n",
            "Epoch 8/15\n",
            "1034/1034 [==============================] - 212s 205ms/step - loss: 0.1296 - accuracy: 0.9583 - auc: 0.9878 - precision: 0.9506 - recall: 0.9669 - false_negatives: 274.0000 - false_positives: 415.0000 - true_negatives: 7853.0000 - true_positives: 7994.0000 - val_loss: 0.1400 - val_accuracy: 0.9552 - val_auc: 0.9861 - val_precision: 0.9532 - val_recall: 0.9574 - val_false_negatives: 235.0000 - val_false_positives: 259.0000 - val_true_negatives: 5252.0000 - val_true_positives: 5276.0000\n",
            "Epoch 9/15\n",
            "1034/1034 [==============================] - 212s 205ms/step - loss: 0.1298 - accuracy: 0.9563 - auc: 0.9878 - precision: 0.9492 - recall: 0.9643 - false_negatives: 295.0000 - false_positives: 427.0000 - true_negatives: 7841.0000 - true_positives: 7973.0000 - val_loss: 0.1568 - val_accuracy: 0.9533 - val_auc: 0.9855 - val_precision: 0.9319 - val_recall: 0.9780 - val_false_negatives: 121.0000 - val_false_positives: 394.0000 - val_true_negatives: 5117.0000 - val_true_positives: 5390.0000\n",
            "Epoch 10/15\n",
            "1034/1034 [==============================] - 210s 203ms/step - loss: 0.1219 - accuracy: 0.9603 - auc: 0.9892 - precision: 0.9529 - recall: 0.9686 - false_negatives: 260.0000 - false_positives: 396.0000 - true_negatives: 7872.0000 - true_positives: 8008.0000 - val_loss: 0.1508 - val_accuracy: 0.9546 - val_auc: 0.9854 - val_precision: 0.9407 - val_recall: 0.9704 - val_false_negatives: 163.0000 - val_false_positives: 337.0000 - val_true_negatives: 5174.0000 - val_true_positives: 5348.0000\n",
            "Epoch 11/15\n",
            "1034/1034 [==============================] - 213s 206ms/step - loss: 0.1193 - accuracy: 0.9594 - auc: 0.9899 - precision: 0.9510 - recall: 0.9688 - false_negatives: 258.0000 - false_positives: 413.0000 - true_negatives: 7855.0000 - true_positives: 8010.0000 - val_loss: 0.1447 - val_accuracy: 0.9525 - val_auc: 0.9868 - val_precision: 0.9349 - val_recall: 0.9728 - val_false_negatives: 150.0000 - val_false_positives: 373.0000 - val_true_negatives: 5138.0000 - val_true_positives: 5361.0000\n",
            "Epoch 12/15\n",
            "1034/1034 [==============================] - 215s 208ms/step - loss: 0.1123 - accuracy: 0.9618 - auc: 0.9909 - precision: 0.9538 - recall: 0.9707 - false_negatives: 242.0000 - false_positives: 389.0000 - true_negatives: 7879.0000 - true_positives: 8026.0000 - val_loss: 0.1407 - val_accuracy: 0.9548 - val_auc: 0.9875 - val_precision: 0.9398 - val_recall: 0.9719 - val_false_negatives: 155.0000 - val_false_positives: 343.0000 - val_true_negatives: 5168.0000 - val_true_positives: 5356.0000\n",
            "Epoch 13/15\n",
            "1034/1034 [==============================] - 214s 207ms/step - loss: 0.1153 - accuracy: 0.9611 - auc: 0.9906 - precision: 0.9523 - recall: 0.9707 - false_negatives: 242.0000 - false_positives: 402.0000 - true_negatives: 7866.0000 - true_positives: 8026.0000 - val_loss: 0.1387 - val_accuracy: 0.9536 - val_auc: 0.9871 - val_precision: 0.9422 - val_recall: 0.9666 - val_false_negatives: 184.0000 - val_false_positives: 327.0000 - val_true_negatives: 5184.0000 - val_true_positives: 5327.0000\n",
            "Epoch 14/15\n",
            "1034/1034 [==============================] - 214s 207ms/step - loss: 0.1093 - accuracy: 0.9622 - auc: 0.9916 - precision: 0.9548 - recall: 0.9704 - false_negatives: 245.0000 - false_positives: 380.0000 - true_negatives: 7888.0000 - true_positives: 8023.0000 - val_loss: 0.1501 - val_accuracy: 0.9518 - val_auc: 0.9843 - val_precision: 0.9390 - val_recall: 0.9664 - val_false_negatives: 185.0000 - val_false_positives: 346.0000 - val_true_negatives: 5165.0000 - val_true_positives: 5326.0000\n",
            "Epoch 15/15\n",
            "1034/1034 [==============================] - 213s 206ms/step - loss: 0.1073 - accuracy: 0.9620 - auc: 0.9918 - precision: 0.9545 - recall: 0.9702 - false_negatives: 246.0000 - false_positives: 382.0000 - true_negatives: 7886.0000 - true_positives: 8022.0000 - val_loss: 0.1468 - val_accuracy: 0.9517 - val_auc: 0.9868 - val_precision: 0.9352 - val_recall: 0.9708 - val_false_negatives: 161.0000 - val_false_positives: 371.0000 - val_true_negatives: 5140.0000 - val_true_positives: 5350.0000\n"
          ]
        }
      ],
      "source": [
        "history = model.fit_generator(generator=train_data_generator,\n",
        "                              steps_per_epoch = len(train_data_generator),\n",
        "                              epochs = 15,\n",
        "                              validation_data = validation_data_generator,\n",
        "                              validation_steps = len(validation_data_generator))"
      ]
    },
    {
      "cell_type": "code",
      "execution_count": 18,
      "metadata": {
        "colab": {
          "base_uri": "https://localhost:8080/"
        },
        "id": "9yW-mrfu5hXI",
        "outputId": "48a3f272-f4f4-421f-eec6-ab1c787aae80"
      },
      "outputs": [
        {
          "data": {
            "text/plain": [
              "{'loss': [0.4327732026576996,\n",
              "  0.16858017444610596,\n",
              "  0.15470467507839203,\n",
              "  0.14828267693519592,\n",
              "  0.14617127180099487,\n",
              "  0.13736434280872345,\n",
              "  0.13116952776908875,\n",
              "  0.1295909881591797,\n",
              "  0.12977446615695953,\n",
              "  0.12191706895828247,\n",
              "  0.11933592706918716,\n",
              "  0.11227601766586304,\n",
              "  0.11529281735420227,\n",
              "  0.10930543392896652,\n",
              "  0.10725616663694382],\n",
              " 'accuracy': [0.7660256624221802,\n",
              "  0.9504716992378235,\n",
              "  0.9545234441757202,\n",
              "  0.9547048807144165,\n",
              "  0.9548863172531128,\n",
              "  0.9554910659790039,\n",
              "  0.9580914378166199,\n",
              "  0.9583333134651184,\n",
              "  0.9563376903533936,\n",
              "  0.960328996181488,\n",
              "  0.9594218730926514,\n",
              "  0.961840808391571,\n",
              "  0.9610546827316284,\n",
              "  0.9622036814689636,\n",
              "  0.9620222449302673],\n",
              " 'auc': [0.8721315860748291,\n",
              "  0.9787132740020752,\n",
              "  0.9820214509963989,\n",
              "  0.9830119609832764,\n",
              "  0.983579158782959,\n",
              "  0.9863147139549255,\n",
              "  0.9870615601539612,\n",
              "  0.9878276586532593,\n",
              "  0.9877547025680542,\n",
              "  0.9892023801803589,\n",
              "  0.9898967742919922,\n",
              "  0.9909063577651978,\n",
              "  0.9905840158462524,\n",
              "  0.9916085004806519,\n",
              "  0.9918068051338196],\n",
              " 'precision': [0.7658648490905762,\n",
              "  0.9367890357971191,\n",
              "  0.944523274898529,\n",
              "  0.9444378614425659,\n",
              "  0.9455105662345886,\n",
              "  0.9476937651634216,\n",
              "  0.9508391618728638,\n",
              "  0.9506481289863586,\n",
              "  0.9491666555404663,\n",
              "  0.9528796076774597,\n",
              "  0.9509676098823547,\n",
              "  0.953773021697998,\n",
              "  0.9523018598556519,\n",
              "  0.9547780752182007,\n",
              "  0.9545454382896423],\n",
              " 'recall': [0.7663280367851257,\n",
              "  0.9661344885826111,\n",
              "  0.9657716751098633,\n",
              "  0.9662554264068604,\n",
              "  0.9654088020324707,\n",
              "  0.9641993045806885,\n",
              "  0.9661344885826111,\n",
              "  0.9668601751327515,\n",
              "  0.9643202424049377,\n",
              "  0.9685534834861755,\n",
              "  0.9687953591346741,\n",
              "  0.9707305431365967,\n",
              "  0.9707305431365967,\n",
              "  0.9703676700592041,\n",
              "  0.9702467322349548],\n",
              " 'false_negatives': [1932.0,\n",
              "  280.0,\n",
              "  283.0,\n",
              "  279.0,\n",
              "  286.0,\n",
              "  296.0,\n",
              "  280.0,\n",
              "  274.0,\n",
              "  295.0,\n",
              "  260.0,\n",
              "  258.0,\n",
              "  242.0,\n",
              "  242.0,\n",
              "  245.0,\n",
              "  246.0],\n",
              " 'false_positives': [1937.0,\n",
              "  539.0,\n",
              "  469.0,\n",
              "  470.0,\n",
              "  460.0,\n",
              "  440.0,\n",
              "  413.0,\n",
              "  415.0,\n",
              "  427.0,\n",
              "  396.0,\n",
              "  413.0,\n",
              "  389.0,\n",
              "  402.0,\n",
              "  380.0,\n",
              "  382.0],\n",
              " 'true_negatives': [6331.0,\n",
              "  7729.0,\n",
              "  7799.0,\n",
              "  7798.0,\n",
              "  7808.0,\n",
              "  7828.0,\n",
              "  7855.0,\n",
              "  7853.0,\n",
              "  7841.0,\n",
              "  7872.0,\n",
              "  7855.0,\n",
              "  7879.0,\n",
              "  7866.0,\n",
              "  7888.0,\n",
              "  7886.0],\n",
              " 'true_positives': [6336.0,\n",
              "  7988.0,\n",
              "  7985.0,\n",
              "  7989.0,\n",
              "  7982.0,\n",
              "  7972.0,\n",
              "  7988.0,\n",
              "  7994.0,\n",
              "  7973.0,\n",
              "  8008.0,\n",
              "  8010.0,\n",
              "  8026.0,\n",
              "  8026.0,\n",
              "  8023.0,\n",
              "  8022.0],\n",
              " 'val_loss': [0.1726783961057663,\n",
              "  0.15466079115867615,\n",
              "  0.14229053258895874,\n",
              "  0.15977224707603455,\n",
              "  0.1398332417011261,\n",
              "  0.15014228224754333,\n",
              "  0.1362764835357666,\n",
              "  0.14004603028297424,\n",
              "  0.15679128468036652,\n",
              "  0.15079639852046967,\n",
              "  0.14466919004917145,\n",
              "  0.14074811339378357,\n",
              "  0.138741597533226,\n",
              "  0.15013524889945984,\n",
              "  0.14675720036029816],\n",
              " 'val_accuracy': [0.9416621327400208,\n",
              "  0.9499183297157288,\n",
              "  0.9530031085014343,\n",
              "  0.9475594162940979,\n",
              "  0.9553620219230652,\n",
              "  0.949283242225647,\n",
              "  0.9548176527023315,\n",
              "  0.9551805257797241,\n",
              "  0.9532752633094788,\n",
              "  0.9546361565589905,\n",
              "  0.9525494575500488,\n",
              "  0.9548176527023315,\n",
              "  0.9536381959915161,\n",
              "  0.9518236517906189,\n",
              "  0.951732873916626],\n",
              " 'val_auc': [0.978451132774353,\n",
              "  0.9837546944618225,\n",
              "  0.9866745471954346,\n",
              "  0.9854743480682373,\n",
              "  0.9865095615386963,\n",
              "  0.9854204654693604,\n",
              "  0.9869396090507507,\n",
              "  0.9861423373222351,\n",
              "  0.9854559302330017,\n",
              "  0.9853567481040955,\n",
              "  0.9867953062057495,\n",
              "  0.987453818321228,\n",
              "  0.987083375453949,\n",
              "  0.9842680096626282,\n",
              "  0.9867805242538452],\n",
              " 'val_precision': [0.913242757320404,\n",
              "  0.9265439510345459,\n",
              "  0.9414677023887634,\n",
              "  0.9232881665229797,\n",
              "  0.9519178867340088,\n",
              "  0.9313588738441467,\n",
              "  0.9465526342391968,\n",
              "  0.9532068371772766,\n",
              "  0.9318810701370239,\n",
              "  0.9407212138175964,\n",
              "  0.9349493980407715,\n",
              "  0.939814031124115,\n",
              "  0.9421648383140564,\n",
              "  0.9389985799789429,\n",
              "  0.935151219367981],\n",
              " 'val_recall': [0.976047933101654,\n",
              "  0.9773181080818176,\n",
              "  0.9660678505897522,\n",
              "  0.9762293696403503,\n",
              "  0.9591725468635559,\n",
              "  0.970059871673584,\n",
              "  0.9640718698501587,\n",
              "  0.9573580026626587,\n",
              "  0.9780439138412476,\n",
              "  0.9704228043556213,\n",
              "  0.9727817177772522,\n",
              "  0.9718744158744812,\n",
              "  0.9666122198104858,\n",
              "  0.9664307832717896,\n",
              "  0.9707856774330139],\n",
              " 'val_false_negatives': [132.0,\n",
              "  125.0,\n",
              "  187.0,\n",
              "  131.0,\n",
              "  225.0,\n",
              "  165.0,\n",
              "  198.0,\n",
              "  235.0,\n",
              "  121.0,\n",
              "  163.0,\n",
              "  150.0,\n",
              "  155.0,\n",
              "  184.0,\n",
              "  185.0,\n",
              "  161.0],\n",
              " 'val_false_positives': [511.0,\n",
              "  427.0,\n",
              "  331.0,\n",
              "  447.0,\n",
              "  267.0,\n",
              "  394.0,\n",
              "  300.0,\n",
              "  259.0,\n",
              "  394.0,\n",
              "  337.0,\n",
              "  373.0,\n",
              "  343.0,\n",
              "  327.0,\n",
              "  346.0,\n",
              "  371.0],\n",
              " 'val_true_negatives': [5000.0,\n",
              "  5084.0,\n",
              "  5180.0,\n",
              "  5064.0,\n",
              "  5244.0,\n",
              "  5117.0,\n",
              "  5211.0,\n",
              "  5252.0,\n",
              "  5117.0,\n",
              "  5174.0,\n",
              "  5138.0,\n",
              "  5168.0,\n",
              "  5184.0,\n",
              "  5165.0,\n",
              "  5140.0],\n",
              " 'val_true_positives': [5379.0,\n",
              "  5386.0,\n",
              "  5324.0,\n",
              "  5380.0,\n",
              "  5286.0,\n",
              "  5346.0,\n",
              "  5313.0,\n",
              "  5276.0,\n",
              "  5390.0,\n",
              "  5348.0,\n",
              "  5361.0,\n",
              "  5356.0,\n",
              "  5327.0,\n",
              "  5326.0,\n",
              "  5350.0]}"
            ]
          },
          "execution_count": 18,
          "metadata": {},
          "output_type": "execute_result"
        }
      ],
      "source": [
        "history.history"
      ]
    },
    {
      "cell_type": "markdown",
      "metadata": {
        "id": "b-3-mdNOOdG3"
      },
      "source": [
        "Plotting Graphs and Outputs"
      ]
    },
    {
      "cell_type": "code",
      "execution_count": 19,
      "metadata": {
        "id": "WKEx_Yt05nZa"
      },
      "outputs": [],
      "source": [
        "def plot_learningCurve(history,epoch):\n",
        "  #plot learning and validation accuracy values\n",
        "  epoch_range=range(1,epoch+1)\n",
        "  plt.plot(epoch_range,history.history['accuracy'])\n",
        "  plt.plot(epoch_range,history.history['val_accuracy'])\n",
        "  plt.title(\"Model accuracy\")\n",
        "  plt.ylabel(\"Accuracy\")\n",
        "  plt.xlabel(\"Epoch\")\n",
        "  plt.legend(['Train','Val'], loc = 'upper left')\n",
        "  plt.show()\n",
        "\n",
        "   #plot learning and validation loss values\n",
        "  plt.plot(epoch_range,history.history['loss'])\n",
        "  plt.plot(epoch_range,history.history['val_loss'])\n",
        "  plt.title(\"Model loss\")\n",
        "  plt.ylabel(\"loss\")\n",
        "  plt.xlabel(\"Epoch\")\n",
        "  plt.legend(['Train','Val'], loc = 'upper left')\n",
        "  plt.show()"
      ]
    },
    {
      "cell_type": "code",
      "execution_count": 20,
      "metadata": {
        "colab": {
          "base_uri": "https://localhost:8080/",
          "height": 927
        },
        "id": "9XG7RUHj6wo8",
        "outputId": "3cafea93-5138-4661-cb07-ffb1c9d3fc38"
      },
      "outputs": [
        {
          "output_type": "display_data",
          "data": {
            "text/plain": [
              "<Figure size 640x480 with 1 Axes>"
            ],
            "image/png": "[encoded data removed]"
          },
          "metadata": {}
        },
        {
          "output_type": "display_data",
          "data": {
            "text/plain": [
              "<Figure size 640x480 with 1 Axes>"
            ],
            "image/png": "[encoded data removed]"
          },
          "metadata": {}
        }
      ],
      "source": [
        "plot_learningCurve(history,15)"
      ]
    }
  ],
  "metadata": {
    "accelerator": "TPU",
    "colab": {
      "provenance": [],
      "include_colab_link": true
    },
    "kernelspec": {
      "display_name": "Python 3",
      "name": "python3"
    },
    "language_info": {
      "name": "python"
    }
  },
  "nbformat": 4,
  "nbformat_minor": 0
}